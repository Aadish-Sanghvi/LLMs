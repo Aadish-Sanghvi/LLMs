{
 "cells": [
  {
   "cell_type": "markdown",
   "id": "4d7e7cf7",
   "metadata": {},
   "source": [
    "# Custom Text Classification with BERT"
   ]
  },
  {
   "cell_type": "markdown",
   "id": "307a266b",
   "metadata": {},
   "source": [
    "Now, let’s fine-tune BERT on a real dataset.\n",
    "\n",
    "Dataset: SMS Spam Classification https://github.com/mohitgupta-1O1/Kaggle-SMS-Spam-Collection-Dataset-/blob/master/spam.csv\n",
    "\n",
    "We will use the SMS Spam Dataset, where each SMS is labeled as:\n",
    "\n",
    "* ham (not spam)\n",
    "\n",
    "* spam (unwanted message)\n"
   ]
  },
  {
   "cell_type": "markdown",
   "id": "6e40b7c9",
   "metadata": {},
   "source": [
    "# Step 1: Import Libraries"
   ]
  },
  {
   "cell_type": "code",
   "execution_count": 2,
   "id": "d3eb8f50",
   "metadata": {},
   "outputs": [],
   "source": [
    "import pandas as pd\n",
    "import torch\n",
    "from torch.utils.data import Dataset, DataLoader\n",
    "from transformers import AutoTokenizer, AutoModelForSequenceClassification, Trainer, TrainingArguments\n",
    "from sklearn.model_selection import train_test_split\n",
    "from sklearn.metrics import accuracy_score, precision_recall_fscore_support"
   ]
  },
  {
   "cell_type": "markdown",
   "id": "d98963d7",
   "metadata": {},
   "source": [
    "# Step 2: Load and Preprocess Dataset"
   ]
  },
  {
   "cell_type": "code",
   "execution_count": 3,
   "id": "803a3483",
   "metadata": {},
   "outputs": [],
   "source": [
    "# import pandas as pd\n",
    "\n",
    "# # Load dataset using the raw URL and specify the encoding\n",
    "# df = pd.read_csv(\"https://raw.githubusercontent.com/mohitgupta-1O1/Kaggle-SMS-Spam-Collection-Dataset-/master/spam.csv\", encoding='ISO-8859-1')\n",
    "\n",
    "# # Rename columns\n",
    "# df.rename(columns={\"v1\": \"label\", \"v2\": \"message\"}, inplace=True)\n",
    "\n",
    "# # Convert labels to binary (0 for ham, 1 for spam)\n",
    "# df[\"label\"] = df[\"label\"].map({\"ham\": 0, \"spam\": 1})\n",
    "\n",
    "# # Drop unnecessary 'Unnamed' columns\n",
    "# df.drop(columns=[col for col in df.columns if 'Unnamed' in col], inplace=True)\n",
    "\n",
    "# # Check the data\n",
    "# print(df.head())"
   ]
  },
  {
   "cell_type": "code",
   "execution_count": 4,
   "id": "90643077",
   "metadata": {},
   "outputs": [],
   "source": [
    "# train_texts, val_texts, train_labels, val_labels = train_test_split(\n",
    "#     df[\"message\"].tolist(), df[\"label\"].tolist(), test_size=0.2, random_state=42\n",
    "# )"
   ]
  },
  {
   "cell_type": "code",
   "execution_count": 5,
   "id": "9b3751c2",
   "metadata": {},
   "outputs": [],
   "source": [
    "# tokenizer = AutoTokenizer.from_pretrained(\"bert-base-uncased\")"
   ]
  },
  {
   "cell_type": "markdown",
   "id": "3c7319c8",
   "metadata": {},
   "source": [
    "# Step 3: Prepare Dataset for Training"
   ]
  },
  {
   "cell_type": "code",
   "execution_count": 6,
   "id": "a76fbff2",
   "metadata": {},
   "outputs": [],
   "source": [
    "# class SpamDataset(Dataset):\n",
    "#     def __init__(self, texts, labels):\n",
    "#         self.texts = texts\n",
    "#         self.labels = labels\n",
    "\n",
    "#     def __len__(self):\n",
    "#         return len(self.texts)\n",
    "    \n",
    "#     def __getitem__(self, idx):\n",
    "#         encoding = tokenizer(\n",
    "#             self.texts[idx],\n",
    "#             padding=\"max_length\",\n",
    "#             truncation=True,\n",
    "#             max_length=64,\n",
    "#             return_tensors=\"pt\"\n",
    "#         )\n",
    "#         return {\n",
    "#             \"input_ids\": encoding[\"input_ids\"].squeeze(0),\n",
    "#             \"attention_mask\": encoding[\"attention_mask\"].squeeze(0),\n",
    "#             \"labels\": torch.tensor(self.labels[idx], dtype=torch.long)\n",
    "#         }"
   ]
  },
  {
   "cell_type": "code",
   "execution_count": 7,
   "id": "6dabf444",
   "metadata": {},
   "outputs": [],
   "source": [
    "# train_dataset = SpamDataset(train_texts, train_labels)\n",
    "# val_dataset = SpamDataset(val_texts, val_labels)"
   ]
  },
  {
   "cell_type": "markdown",
   "id": "ac1f790e",
   "metadata": {},
   "source": [
    "# Step 4: Load Pretrained Model"
   ]
  },
  {
   "cell_type": "code",
   "execution_count": 8,
   "id": "3dffc94f",
   "metadata": {},
   "outputs": [],
   "source": [
    "# model = AutoModelForSequenceClassification.from_pretrained(\"bert-base-uncased\", num_labels=2)"
   ]
  },
  {
   "cell_type": "markdown",
   "id": "0d935d3c",
   "metadata": {},
   "source": [
    "# Step 5: Define Metrics"
   ]
  },
  {
   "cell_type": "code",
   "execution_count": 9,
   "id": "9247ec0d",
   "metadata": {},
   "outputs": [],
   "source": [
    "# def compute_metrics(pred):\n",
    "#     labels = pred.label_ids\n",
    "#     preds = pred.predictions.argmax(-1)\n",
    "#     precision, recall, f1, _ = precision_recall_fscore_support(labels, preds, average=\"binary\")\n",
    "#     acc = accuracy_score(labels, preds)\n",
    "#     return {\"accuracy\": acc, \"f1\": f1, \"precision\": precision, \"recall\": recall}"
   ]
  },
  {
   "cell_type": "markdown",
   "id": "f3f31b6a",
   "metadata": {},
   "source": [
    "# Step 6: Training Arguments"
   ]
  },
  {
   "cell_type": "code",
   "execution_count": 10,
   "id": "15057d9f",
   "metadata": {},
   "outputs": [],
   "source": [
    "# training_args = TrainingArguments(\n",
    "#     output_dir=\"./results\",\n",
    "#     evaluation_strategy=\"epoch\",\n",
    "#     save_strategy=\"epoch\",\n",
    "#     num_train_epochs=3,\n",
    "#     per_device_train_batch_size=16,\n",
    "#     per_device_eval_batch_size=64,\n",
    "#     warmup_steps=100,\n",
    "#     weight_decay=0.01,\n",
    "#     logging_dir=\"./logs\",\n",
    "#     logging_steps=10,\n",
    "#     load_best_model_at_end=True,\n",
    "#     metric_for_best_model=\"f1\"\n",
    "# )"
   ]
  },
  {
   "cell_type": "markdown",
   "id": "137e48a4",
   "metadata": {},
   "source": [
    "# Step 7: Train Model"
   ]
  },
  {
   "cell_type": "code",
   "execution_count": 11,
   "id": "e48e3938",
   "metadata": {},
   "outputs": [],
   "source": [
    "# trainer = Trainer(\n",
    "#     model=model,\n",
    "#     args=training_args,\n",
    "#     train_dataset=train_dataset,\n",
    "#     eval_dataset=val_dataset,\n",
    "#     compute_metrics=compute_metrics,\n",
    "# )"
   ]
  },
  {
   "cell_type": "code",
   "execution_count": 12,
   "id": "e9235ff8",
   "metadata": {},
   "outputs": [],
   "source": [
    "# trainer.train()"
   ]
  },
  {
   "cell_type": "markdown",
   "id": "036be2cd",
   "metadata": {},
   "source": [
    "# Step 8: Save Model"
   ]
  },
  {
   "cell_type": "code",
   "execution_count": 13,
   "id": "b0727222",
   "metadata": {},
   "outputs": [],
   "source": [
    "# model.save_pretrained(\"./bert_spam_model\")\n",
    "# tokenizer.save_pretrained(\"./bert_spam_model\")"
   ]
  },
  {
   "cell_type": "markdown",
   "id": "1ab81e3f",
   "metadata": {},
   "source": [
    "# Step 9: Load Model for Prediction"
   ]
  },
  {
   "cell_type": "code",
   "execution_count": 14,
   "id": "b428398b",
   "metadata": {},
   "outputs": [],
   "source": [
    "from transformers import AutoModelForSequenceClassification"
   ]
  },
  {
   "cell_type": "code",
   "execution_count": 15,
   "id": "f6dacd09",
   "metadata": {},
   "outputs": [],
   "source": [
    "model = AutoModelForSequenceClassification.from_pretrained(\"./bert_spam_model\")\n",
    "tokenizer = AutoTokenizer.from_pretrained(\"./bert_spam_model\")"
   ]
  },
  {
   "cell_type": "markdown",
   "id": "477c9c0a",
   "metadata": {},
   "source": [
    "# Step 10: Predict Function"
   ]
  },
  {
   "cell_type": "code",
   "execution_count": 16,
   "id": "ee810246",
   "metadata": {},
   "outputs": [],
   "source": [
    "def predict(text):\n",
    "    model.eval()\n",
    "    device = torch.device(\"cuda\" if torch.cuda.is_available() else \"cpu\")\n",
    "    model.to(device)\n",
    "\n",
    "    # Encode the text\n",
    "    encoding = tokenizer(text, return_tensors=\"pt\", truncation=True, padding=\"max_length\", max_length=64).to(device)\n",
    "\n",
    "    with torch.no_grad():\n",
    "        outputs = model(**encoding)\n",
    "        probs = torch.nn.functional.softmax(outputs.logits, dim=-1)\n",
    "\n",
    "    label = torch.argmax(probs, dim=1).item()\n",
    "    confidence = probs[0][label].item()\n",
    "    \n",
    "    return (\"Spam\" if label == 1 else \"Ham\", confidence)"
   ]
  },
  {
   "cell_type": "markdown",
   "id": "40235502",
   "metadata": {},
   "source": [
    "# Step 11: Test Predictions"
   ]
  },
  {
   "cell_type": "code",
   "execution_count": 19,
   "id": "fe016252",
   "metadata": {},
   "outputs": [],
   "source": [
    "messages = [\n",
    "    \"Congratulations! You've won a lottery. Claim now!\",\n",
    "    \"Hey, are we meeting at 5?\",\n",
    "    \"URGENT! Your account has been hacked. Click the link now to secure it.\",\n",
    "    \"Don't forget the meeting tomorrow at 10am.\"\n",
    "]"
   ]
  },
  {
   "cell_type": "code",
   "execution_count": 20,
   "id": "5cb88b8d",
   "metadata": {},
   "outputs": [
    {
     "name": "stdout",
     "output_type": "stream",
     "text": [
      "Message: Congratulations! You've won a lottery. Claim now! → Prediction: ('Ham', 0.8677036762237549)\n",
      "Message: Hey, are we meeting at 5? → Prediction: ('Ham', 0.999767005443573)\n",
      "Message: URGENT! Your account has been hacked. Click the link now to secure it. → Prediction: ('Spam', 0.7624338269233704)\n",
      "Message: Don't forget the meeting tomorrow at 10am. → Prediction: ('Ham', 0.9997327923774719)\n"
     ]
    }
   ],
   "source": [
    "for msg in messages:\n",
    "    print(f\"Message: {msg} → Prediction: {predict(msg)}\")"
   ]
  }
 ],
 "metadata": {
  "kernelspec": {
   "display_name": "Python 3",
   "language": "python",
   "name": "python3"
  },
  "language_info": {
   "codemirror_mode": {
    "name": "ipython",
    "version": 3
   },
   "file_extension": ".py",
   "mimetype": "text/x-python",
   "name": "python",
   "nbconvert_exporter": "python",
   "pygments_lexer": "ipython3",
   "version": "3.12.4"
  }
 },
 "nbformat": 4,
 "nbformat_minor": 5
}
